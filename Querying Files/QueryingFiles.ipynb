{
 "cells": [
  {
   "cell_type": "code",
   "execution_count": 0,
   "metadata": {
    "application/vnd.databricks.v1+cell": {
     "cellMetadata": {
      "byteLimit": 2048000,
      "rowLimit": 10000
     },
     "inputWidgets": {},
     "nuid": "9fb82107-0e8c-423c-9eb4-c972dcfc8fbf",
     "showTitle": false,
     "tableResultSettingsMap": {},
     "title": ""
    }
   },
   "outputs": [],
   "source": [
    "%run /Workspace/Users/aminah.yussuf@slalom.com/Includes/Copy-Datasets"
   ]
  },
  {
   "cell_type": "code",
   "execution_count": 0,
   "metadata": {
    "application/vnd.databricks.v1+cell": {
     "cellMetadata": {
      "byteLimit": 2048000,
      "rowLimit": 10000
     },
     "collapsed": true,
     "inputWidgets": {},
     "nuid": "6b02ae36-85fe-4f88-98b7-ceb5ce38a6c6",
     "showTitle": false,
     "tableResultSettingsMap": {},
     "title": ""
    }
   },
   "outputs": [],
   "source": [
    "%python\n",
    "files = dbutils.fs.ls(\"dbfs:/mnt/demo-datasets/bookstore/books-csv\")\n",
    "display(files)"
   ]
  },
  {
   "cell_type": "code",
   "execution_count": 0,
   "metadata": {
    "application/vnd.databricks.v1+cell": {
     "cellMetadata": {
      "byteLimit": 2048000,
      "rowLimit": 10000
     },
     "collapsed": true,
     "inputWidgets": {},
     "nuid": "d6a40079-706a-4898-8aa2-a8c7ddadc524",
     "showTitle": false,
     "tableResultSettingsMap": {},
     "title": ""
    }
   },
   "outputs": [],
   "source": [
    "SELECT * FROM JSON.`dbfs:/mnt/demo-datasets/bookstore/customers-json`"
   ]
  },
  {
   "cell_type": "code",
   "execution_count": 0,
   "metadata": {
    "application/vnd.databricks.v1+cell": {
     "cellMetadata": {
      "byteLimit": 2048000,
      "rowLimit": 10000
     },
     "collapsed": true,
     "inputWidgets": {},
     "nuid": "cc77377b-3bbc-41c7-b7e0-107e36a29256",
     "showTitle": false,
     "tableResultSettingsMap": {},
     "title": ""
    }
   },
   "outputs": [],
   "source": [
    "SELECT *, input_file_name() sourcefile\n",
    "FROM JSON.`dbfs:/mnt/demo-datasets/bookstore/customers-json`"
   ]
  },
  {
   "cell_type": "code",
   "execution_count": 0,
   "metadata": {
    "application/vnd.databricks.v1+cell": {
     "cellMetadata": {
      "byteLimit": 2048000,
      "rowLimit": 10000
     },
     "collapsed": true,
     "inputWidgets": {},
     "nuid": "3d849fb1-2f8d-44dd-98d5-ec22c747e611",
     "showTitle": false,
     "tableResultSettingsMap": {},
     "title": ""
    }
   },
   "outputs": [],
   "source": [
    "CREATE TABLE IF NOT EXISTS books_csv\n",
    "  (book_id STRING, title STRING, author STRING, category STRING, price DOUBLE)\n",
    "USING CSV\n",
    "OPTIONS ( \n",
    "  header = \"true\", \n",
    "  delimiter = \";\"\n",
    ")\n",
    "LOCATION \"dbfs:/mnt/demo-datasets/bookstore/books-csv\";\n",
    "\n",
    "\n",
    "select * from books_csv"
   ]
  },
  {
   "cell_type": "code",
   "execution_count": 0,
   "metadata": {
    "application/vnd.databricks.v1+cell": {
     "cellMetadata": {
      "byteLimit": 2048000,
      "rowLimit": 10000
     },
     "collapsed": true,
     "inputWidgets": {},
     "nuid": "eb0faa76-f278-4288-aae2-4f4d6595291d",
     "showTitle": false,
     "tableResultSettingsMap": {},
     "title": ""
    }
   },
   "outputs": [],
   "source": [
    "DESCRIBE EXTENDED books_csv;"
   ]
  },
  {
   "cell_type": "code",
   "execution_count": 0,
   "metadata": {
    "application/vnd.databricks.v1+cell": {
     "cellMetadata": {
      "byteLimit": 2048000,
      "rowLimit": 10000
     },
     "inputWidgets": {},
     "nuid": "b1766e21-ecbd-4aac-a437-00d9c486ab75",
     "showTitle": false,
     "tableResultSettingsMap": {},
     "title": ""
    }
   },
   "outputs": [],
   "source": [
    "%python \n",
    "#this command will read data from the books csv table and write it back into the source csv file \n",
    "(spark.read\n",
    "   .table(\"books_csv\")\n",
    "   .write\n",
    "        .mode(\"overwrite\")\n",
    "        .format(\"csv\")\n",
    "        .option(\"header\", \"true\")\n",
    "        .option(\"delimiter\", ';')\n",
    "        .save(\"dbfs:/mnt/demo-datasets/bookstore/books_csv\"))"
   ]
  },
  {
   "cell_type": "code",
   "execution_count": 0,
   "metadata": {
    "application/vnd.databricks.v1+cell": {
     "cellMetadata": {
      "byteLimit": 2048000,
      "rowLimit": 10000
     },
     "inputWidgets": {},
     "nuid": "9072c3c4-beb1-4eda-9600-764be5342aa8",
     "showTitle": false,
     "tableResultSettingsMap": {},
     "title": ""
    }
   },
   "outputs": [],
   "source": [
    "REFRESH TABLE books_csv;\n",
    "\n",
    "SELECT COUNT(*) FROM books_csv;"
   ]
  },
  {
   "cell_type": "code",
   "execution_count": 0,
   "metadata": {
    "application/vnd.databricks.v1+cell": {
     "cellMetadata": {
      "byteLimit": 2048000,
      "rowLimit": 10000
     },
     "inputWidgets": {},
     "nuid": "c02ff795-a881-4246-aded-c0a27e4bef3b",
     "showTitle": false,
     "tableResultSettingsMap": {},
     "title": ""
    }
   },
   "outputs": [],
   "source": [
    "CREATE TABLE IF NOT EXISTS customers AS \n",
    "SELECT * FROM JSON.`dbfs:/mnt/demo-datasets/bookstore/customers-json`;\n",
    "\n",
    "DESCRIBE EXTENDED customers;"
   ]
  },
  {
   "cell_type": "code",
   "execution_count": 0,
   "metadata": {
    "application/vnd.databricks.v1+cell": {
     "cellMetadata": {
      "byteLimit": 2048000,
      "rowLimit": 10000
     },
     "collapsed": true,
     "inputWidgets": {},
     "nuid": "c3bab39a-9f34-434a-b580-e6c2252c275d",
     "showTitle": false,
     "tableResultSettingsMap": {},
     "title": ""
    }
   },
   "outputs": [],
   "source": [
    "CREATE TABLE IF NOT EXISTS orders AS\n",
    "SELECT * FROM parquet.`dbfs:/mnt/demo-datasets/bookstore/orders`;\n",
    "\n",
    "SELECT * FROM orders;"
   ]
  },
  {
   "cell_type": "code",
   "execution_count": 0,
   "metadata": {
    "application/vnd.databricks.v1+cell": {
     "cellMetadata": {
      "byteLimit": 2048000,
      "rowLimit": 10000
     },
     "collapsed": true,
     "inputWidgets": {},
     "nuid": "c299add0-ea7f-4e3a-95a3-6d4799930447",
     "showTitle": false,
     "tableResultSettingsMap": {},
     "title": ""
    }
   },
   "outputs": [],
   "source": [
    "----create a table from a parquest file \n",
    "CREATE OR REPLACE TABLE orders AS\n",
    "SELECT * FROM parquet.`dbfs:/mnt/demo-datasets/bookstore/orders`;\n",
    "\n",
    "SELECT * FROM orders;\n",
    "\n",
    "DESCRIBE HISTORY orders;"
   ]
  },
  {
   "cell_type": "code",
   "execution_count": 0,
   "metadata": {
    "application/vnd.databricks.v1+cell": {
     "cellMetadata": {
      "byteLimit": 2048000,
      "rowLimit": 10000
     },
     "collapsed": true,
     "inputWidgets": {},
     "nuid": "b18916e8-04fb-4998-b95c-b787e0d6fe20",
     "showTitle": false,
     "tableResultSettingsMap": {},
     "title": ""
    }
   },
   "outputs": [],
   "source": [
    "----insert overwrite, overwrite does not create a new table, it basically replaces the data in the same table with selected data\n",
    "INSERT OVERWRITE orders\n",
    "SELECT * FROM parquet.`dbfs:/mnt/demo-datasets/bookstore/orders`;"
   ]
  },
  {
   "cell_type": "code",
   "execution_count": 0,
   "metadata": {
    "application/vnd.databricks.v1+cell": {
     "cellMetadata": {
      "byteLimit": 2048000,
      "rowLimit": 10000
     },
     "collapsed": true,
     "inputWidgets": {},
     "nuid": "4c6a8c26-c801-4f9b-a588-abcf74754b1d",
     "showTitle": false,
     "tableResultSettingsMap": {},
     "title": ""
    }
   },
   "outputs": [],
   "source": [
    "----creaye a temporary view from a csv file with a predefined schema (schema is not auto generated from csv file) \n",
    "CREATE OR REPLACE TEMP VIEW books_updates \n",
    "  (book_id STRING, title STRING, author STRING, category STRING, price DOUBLE)\n",
    "USING CSV \n",
    "OPTIONS (\n",
    "  path = \"dbfs:/mnt/demo-datasets/bookstore/books-csv-new\",\n",
    "  header = \"true\",\n",
    "  delimiter = \";\"\n",
    ");\n",
    "\n",
    "SELECT * FROM books_updates;"
   ]
  },
  {
   "cell_type": "code",
   "execution_count": 0,
   "metadata": {
    "application/vnd.databricks.v1+cell": {
     "cellMetadata": {
      "byteLimit": 2048000,
      "rowLimit": 10000
     },
     "collapsed": true,
     "inputWidgets": {},
     "nuid": "bd4bf357-5483-41f1-9f75-bcee880edf27",
     "showTitle": false,
     "tableResultSettingsMap": {},
     "title": ""
    }
   },
   "outputs": [],
   "source": [
    "SELECT * FROM customers;"
   ]
  },
  {
   "cell_type": "code",
   "execution_count": 0,
   "metadata": {
    "application/vnd.databricks.v1+cell": {
     "cellMetadata": {
      "byteLimit": 2048000,
      "rowLimit": 10000
     },
     "collapsed": true,
     "inputWidgets": {},
     "nuid": "3eb4f905-b827-45f1-9c4d-d5043e6642eb",
     "showTitle": false,
     "tableResultSettingsMap": {},
     "title": ""
    }
   },
   "outputs": [],
   "source": [
    "----create a temporary view and trasverse the profile json object using the \":\"\n",
    "\n",
    "SELECT customer_id, profile:first_name, profile:address:country  FROM customers"
   ]
  },
  {
   "cell_type": "code",
   "execution_count": 0,
   "metadata": {
    "application/vnd.databricks.v1+cell": {
     "cellMetadata": {
      "byteLimit": 2048000,
      "rowLimit": 10000
     },
     "collapsed": true,
     "inputWidgets": {},
     "nuid": "eadd9069-21c7-4c1b-a267-0ab9e00d4545",
     "showTitle": false,
     "tableResultSettingsMap": {},
     "title": ""
    }
   },
   "outputs": [],
   "source": [
    "\n",
    "-----create a temperary view to parse the json with the retrieved schema above \n",
    "CREATE OR REPLACE TEMP VIEW parsed_customers AS\n",
    "    SELECT customer_id, from_json(profile, schema_of_json('{\"first_name\":\"Dniren\",\"last_name\":\"Abby\",\"gender\":\"Female\",\"address\":{\"street\":\"768 Mesta Terrace\",\"city\":\"Annecy\",\"country\":\"France\"}}')) profile_struct\n",
    "FROM customers;\n",
    "\n",
    "---describe customer table \n",
    "DESCRIBE TABLE customers;\n",
    "\n",
    "---select all from customers table\n",
    "SELECT * FROM customers;"
   ]
  },
  {
   "cell_type": "code",
   "execution_count": 0,
   "metadata": {
    "application/vnd.databricks.v1+cell": {
     "cellMetadata": {
      "byteLimit": 2048000,
      "rowLimit": 10000
     },
     "inputWidgets": {},
     "nuid": "a50ca1dd-069f-4689-932e-14d667d4ad5f",
     "showTitle": false,
     "tableResultSettingsMap": {},
     "title": ""
    }
   },
   "outputs": [],
   "source": [
    "\n",
    "--create a temporary view of with json element split into it own columns \n",
    "CREATE OR REPLACE TEMP VIEW customers_final AS \n",
    "SELECT customer_id, profile_struct.* FROM parsed_customers;"
   ]
  },
  {
   "cell_type": "code",
   "execution_count": 0,
   "metadata": {
    "application/vnd.databricks.v1+cell": {
     "cellMetadata": {
      "byteLimit": 2048000,
      "rowLimit": 10000
     },
     "collapsed": true,
     "inputWidgets": {},
     "nuid": "eabaaa47-7aa3-48f8-a8f3-89979c309215",
     "showTitle": false,
     "tableResultSettingsMap": {},
     "title": ""
    }
   },
   "outputs": [],
   "source": [
    "SELECT * FROM customers_final"
   ]
  },
  {
   "cell_type": "code",
   "execution_count": 0,
   "metadata": {
    "application/vnd.databricks.v1+cell": {
     "cellMetadata": {
      "byteLimit": 2048000,
      "rowLimit": 10000
     },
     "collapsed": true,
     "inputWidgets": {},
     "nuid": "57cf35b0-90ee-414d-be7d-14ced2c4d7c7",
     "showTitle": false,
     "tableResultSettingsMap": {},
     "title": ""
    }
   },
   "outputs": [],
   "source": [
    "SELECT order_id, customer_id, books from orders"
   ]
  },
  {
   "cell_type": "code",
   "execution_count": 0,
   "metadata": {
    "application/vnd.databricks.v1+cell": {
     "cellMetadata": {
      "byteLimit": 2048000,
      "rowLimit": 10000
     },
     "collapsed": true,
     "inputWidgets": {},
     "nuid": "9568acf3-a114-4980-88a0-7f7de2dbb9a3",
     "showTitle": false,
     "tableResultSettingsMap": {},
     "title": ""
    }
   },
   "outputs": [],
   "source": [
    "---use the \"explode\" keyword to seperate elements in an array of columns into its own row \n",
    "SELECT order_id, customer_id, explode(books) AS book\n",
    "FROM orders"
   ]
  },
  {
   "cell_type": "code",
   "execution_count": 0,
   "metadata": {
    "application/vnd.databricks.v1+cell": {
     "cellMetadata": {
      "byteLimit": 2048000,
      "rowLimit": 10000
     },
     "collapsed": true,
     "inputWidgets": {},
     "nuid": "b24464e4-2411-447c-b9b6-de8e5f052047",
     "showTitle": false,
     "tableResultSettingsMap": {},
     "title": ""
    }
   },
   "outputs": [],
   "source": [
    "---use \"collect_set\" keyword to aggregate order id as key and book id per order as the corresponding array\n",
    "SELECT customer_id, \n",
    "    collect_set(order_id) AS order_set,\n",
    "    collect_set(books.book_id) AS books_set\n",
    "FROM orders\n",
    "GROUP BY customer_id"
   ]
  },
  {
   "cell_type": "code",
   "execution_count": 0,
   "metadata": {
    "application/vnd.databricks.v1+cell": {
     "cellMetadata": {
      "byteLimit": 2048000,
      "rowLimit": 10000
     },
     "inputWidgets": {},
     "nuid": "a98ce8c7-6b3d-425b-b9c2-bcb24704dd7c",
     "showTitle": false,
     "tableResultSettingsMap": {},
     "title": ""
    }
   },
   "outputs": [],
   "source": [
    "---join operation\n",
    "----standard join operation includes inner, outter, left, right, full and cross \n",
    "\n",
    "CREATE OR REPLACE VIEW orders_enriched AS\n",
    "SELECT * \n",
    "FROM \n",
    "    (SELECT *, explode(books) AS book\n",
    "    FROM orders) o\n",
    "    INNER JOIN books_csv b\n",
    "    ON o.book.book_id = b.book_id;\n",
    "\n",
    "----SELECT * FROM orders_enriched;\n",
    "\n",
    "DESCRIBE TABLE orders_enriched;"
   ]
  },
  {
   "cell_type": "code",
   "execution_count": 0,
   "metadata": {
    "application/vnd.databricks.v1+cell": {
     "cellMetadata": {
      "byteLimit": 2048000,
      "rowLimit": 10000
     },
     "inputWidgets": {},
     "nuid": "a0b80e59-8dbb-4eb3-ae60-97946d01c3e7",
     "showTitle": false,
     "tableResultSettingsMap": {},
     "title": ""
    }
   },
   "outputs": [],
   "source": [
    "-----create a table using the pivot function to create new column with sum of quantity per book item purchased by customer\n",
    "CREATE OR REPLACE TABLE transactions AS \n",
    "\n",
    "SELECT * FROM ( \n",
    "  SELECT \n",
    "    customer_id, \n",
    "    book.book_id AS book_id,\n",
    "    book.quantity AS quantity\n",
    "  FROM orders_enriched\n",
    ") PIVOT (\n",
    "  sum(quantity) FOR book_id in (\n",
    "    'B01','BO2','B03','BO4','B05','BO6', \n",
    "    'B07','BO8','B09','B10','B11','B12') \n",
    ");\n",
    "\n",
    "SELECT * FROM transactions;"
   ]
  },
  {
   "cell_type": "code",
   "execution_count": 0,
   "metadata": {
    "application/vnd.databricks.v1+cell": {
     "cellMetadata": {
      "byteLimit": 2048000,
      "rowLimit": 10000
     },
     "inputWidgets": {},
     "nuid": "4080dae4-6a86-44c5-a84b-51391f548d10",
     "showTitle": false,
     "tableResultSettingsMap": {},
     "title": ""
    }
   },
   "outputs": [],
   "source": []
  }
 ],
 "metadata": {
  "application/vnd.databricks.v1+notebook": {
   "computePreferences": null,
   "dashboards": [],
   "environmentMetadata": {
    "base_environment": "",
    "environment_version": "2"
   },
   "language": "sql",
   "notebookMetadata": {
    "pythonIndentUnit": 4
   },
   "notebookName": "QueryingFiles",
   "widgets": {}
  },
  "language_info": {
   "name": "sql"
  }
 },
 "nbformat": 4,
 "nbformat_minor": 0
}
